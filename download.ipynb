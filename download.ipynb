{
 "cells": [
  {
   "cell_type": "code",
   "execution_count": 12,
   "id": "b558d0e4",
   "metadata": {},
   "outputs": [],
   "source": [
    "from pymatgen.ext.matproj import MPRester\n",
    "\n",
    "# https://pymatgen.org/introduction.html\n",
    "# You have to use the old Materials Project website: https://legacy.materialsproject.org/dashboard\n",
    "with MPRester(\"XNPeIZJFSHBQ0Rgi\") as m:\n",
    "\n",
    "    # Structure for material id\n",
    "    structure = m.get_structure_by_material_id(\"mp-984761\")\n",
    "\n",
    "    # Dos for material id\n",
    "    # dos = m.get_dos_by_material_id(\"mp-984761\")\n",
    "\n",
    "    # Bandstructure for material id\n",
    "    # bandstructure = m.get_bandstructure_by_material_id(\"mp-984761\")\n",
    "    \n",
    "structure.to(filename=\"CsRb2Sb.cif\")"
   ]
  },
  {
   "cell_type": "code",
   "execution_count": null,
   "id": "d74976e1",
   "metadata": {},
   "outputs": [],
   "source": []
  }
 ],
 "metadata": {
  "kernelspec": {
   "display_name": "Python 3",
   "language": "python",
   "name": "python3"
  },
  "language_info": {
   "codemirror_mode": {
    "name": "ipython",
    "version": 3
   },
   "file_extension": ".py",
   "mimetype": "text/x-python",
   "name": "python",
   "nbconvert_exporter": "python",
   "pygments_lexer": "ipython3",
   "version": "3.6.8"
  }
 },
 "nbformat": 4,
 "nbformat_minor": 5
}
