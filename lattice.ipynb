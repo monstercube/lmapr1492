{
 "cells": [
  {
   "cell_type": "code",
   "execution_count": 2,
   "id": "50c46e5d",
   "metadata": {},
   "outputs": [],
   "source": [
    "from pymatgen.ext.matproj import MPRester\n",
    "\n",
    "# https://pymatgen.org/introduction.html\n",
    "# You have to use the old Materials Project website: https://legacy.materialsproject.org/dashboard\n",
    "with MPRester(\"XNPeIZJFSHBQ0Rgi\") as m:\n",
    "\n",
    "    # Structure for material id\n",
    "    structure = m.get_structure_by_material_id(\"mp-984761\")\n",
    "\n",
    "    # Dos for material id\n",
    "    # dos = m.get_dos_by_material_id(\"mp-984761\")\n",
    "\n",
    "    # Bandstructure for material id\n",
    "    # bandstructure = m.get_bandstructure_by_material_id(\"mp-984761\")"
   ]
  },
  {
   "cell_type": "code",
   "execution_count": 4,
   "id": "45cbc9da",
   "metadata": {},
   "outputs": [
    {
     "name": "stdout",
     "output_type": "stream",
     "text": [
      "Vecteurs de base réseau réciproque\n",
      "0.000000 4.530684 4.530684\n",
      "4.530684 0.000000 4.530684\n",
      "4.530684 4.530684 0.000000\n"
     ]
    }
   ],
   "source": [
    "print(\"Vecteurs de base réseau direct\")\n",
    "print(structure.lattice)"
   ]
  },
  {
   "cell_type": "code",
   "execution_count": 6,
   "id": "fad4a3a9",
   "metadata": {},
   "outputs": [
    {
     "name": "stdout",
     "output_type": "stream",
     "text": [
      "Vecteurs de base réseau réciproque\n",
      "-0.693404 0.693404 0.693404\n",
      "0.693404 -0.693404 0.693404\n",
      "0.693404 0.693404 -0.693404\n"
     ]
    }
   ],
   "source": [
    "print(\"Vecteurs de base réseau réciproque\")\n",
    "print(structure.lattice.reciprocal_lattice)"
   ]
  },
  {
   "cell_type": "code",
   "execution_count": 8,
   "id": "7c0d0244",
   "metadata": {},
   "outputs": [
    {
     "name": "stdout",
     "output_type": "stream",
     "text": [
      "Type de maille\n",
      "cubic\n"
     ]
    }
   ],
   "source": [
    "from pymatgen.symmetry.analyzer import SpacegroupAnalyzer\n",
    "print(\"Type de maille\")\n",
    "print(SpacegroupAnalyzer(structure).get_lattice_type())"
   ]
  },
  {
   "cell_type": "code",
   "execution_count": 9,
   "id": "0f717488",
   "metadata": {},
   "outputs": [
    {
     "name": "stdout",
     "output_type": "stream",
     "text": [
      "Système critallin\n",
      "cubic\n"
     ]
    }
   ],
   "source": [
    "print(\"Système critallin\")\n",
    "print(SpacegroupAnalyzer(structure).get_crystal_system())"
   ]
  },
  {
   "cell_type": "code",
   "execution_count": 10,
   "id": "f754dbf9",
   "metadata": {},
   "outputs": [
    {
     "name": "stdout",
     "output_type": "stream",
     "text": [
      "Groupe ponctuel\n",
      "m-3m\n"
     ]
    }
   ],
   "source": [
    "print(\"Groupe ponctuel\")\n",
    "print(SpacegroupAnalyzer(structure).get_point_group_symbol())"
   ]
  },
  {
   "cell_type": "code",
   "execution_count": null,
   "id": "a82cda03",
   "metadata": {},
   "outputs": [],
   "source": []
  }
 ],
 "metadata": {
  "kernelspec": {
   "display_name": "Python 3",
   "language": "python",
   "name": "python3"
  },
  "language_info": {
   "codemirror_mode": {
    "name": "ipython",
    "version": 3
   },
   "file_extension": ".py",
   "mimetype": "text/x-python",
   "name": "python",
   "nbconvert_exporter": "python",
   "pygments_lexer": "ipython3",
   "version": "3.6.8"
  }
 },
 "nbformat": 4,
 "nbformat_minor": 5
}
