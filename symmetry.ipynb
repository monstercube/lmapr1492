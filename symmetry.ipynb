{
 "cells": [
  {
   "cell_type": "code",
   "execution_count": 1,
   "id": "73f84601",
   "metadata": {},
   "outputs": [],
   "source": [
    "# L'utilisation de https://www.cryst.ehu.es/cgi-bin/cryst/programs/nph-wp-list est recommandée :-).\n",
    "\n",
    "from pymatgen.ext.matproj import MPRester\n",
    "\n",
    "# https://pymatgen.org/introduction.html\n",
    "# You have to use the old Materials Project website: https://legacy.materialsproject.org/dashboard\n",
    "with MPRester(\"XNPeIZJFSHBQ0Rgi\") as m:\n",
    "\n",
    "    # Structure for material id\n",
    "    structure = m.get_structure_by_material_id(\"mp-984761\")\n",
    "\n",
    "    # Dos for material id\n",
    "    # dos = m.get_dos_by_material_id(\"mp-984761\")\n",
    "\n",
    "    # Bandstructure for material id\n",
    "    # bandstructure = m.get_bandstructure_by_material_id(\"mp-984761\")\n",
    "    \n",
    "structure.to(filename=\"CsRb2Sb.cif\")"
   ]
  },
  {
   "cell_type": "code",
   "execution_count": 2,
   "id": "8d86bf73",
   "metadata": {},
   "outputs": [
    {
     "data": {
      "application/vnd.jupyter.widget-view+json": {
       "model_id": "20599ee2d3574500bf402d8a5d5f2060",
       "version_major": 2,
       "version_minor": 0
      },
      "text/plain": [
       "JsmolView(layout=Layout(align_self='stretch', height='400px'))"
      ]
     },
     "metadata": {},
     "output_type": "display_data"
    }
   ],
   "source": [
    "from jupyter_jsmol.pymatgen import quick_view\n",
    "view = quick_view(structure, conventional=True)\n",
    "display(view)"
   ]
  },
  {
   "cell_type": "markdown",
   "id": "66faa097",
   "metadata": {},
   "source": [
    "<h1>Opération de symétrie 1 : Plan miroir<h1>"
   ]
  },
  {
   "cell_type": "code",
   "execution_count": 3,
   "id": "4dad5d94",
   "metadata": {},
   "outputs": [],
   "source": [
    "view.script('draw symop \"y,x,z\" {atomno=1}')"
   ]
  },
  {
   "cell_type": "markdown",
   "id": "aad86a5d",
   "metadata": {},
   "source": [
    "L'atome $1$ est l'atome de Cs (voir fichier CIF/l'importer sur Vesta par exemple). Situé à la position $(0,0,0.5)$ dans la maille conventionnelle, il se trouve à la position de Wyckoff $4b$ du groupe d'espace Fm-3m (n° $225$).\n",
    "\n",
    "Si on lui applique une symétrie miroir (dont le plan est dessiné sur la figure): $x,y,z \\Rightarrow y,x,z$, on trouve la même position $(0,0,0.5)$. Cette symétrie envoie donc l'atome sur lui-même."
   ]
  },
  {
   "cell_type": "code",
   "execution_count": null,
   "id": "c82f6bf3",
   "metadata": {},
   "outputs": [],
   "source": []
  },
  {
   "cell_type": "markdown",
   "id": "2c53cd9e",
   "metadata": {},
   "source": [
    "<h1>Opération de symétrie 2 : Translation<h1>"
   ]
  },
  {
   "cell_type": "code",
   "execution_count": 4,
   "id": "5055a8ad",
   "metadata": {},
   "outputs": [
    {
     "data": {
      "application/vnd.jupyter.widget-view+json": {
       "model_id": "f4e56242675748d9a4529322f8c9b25a",
       "version_major": 2,
       "version_minor": 0
      },
      "text/plain": [
       "JsmolView(layout=Layout(align_self='stretch', height='400px'))"
      ]
     },
     "metadata": {},
     "output_type": "display_data"
    }
   ],
   "source": [
    "view = quick_view(structure, conventional=True)\n",
    "display(view)"
   ]
  },
  {
   "cell_type": "code",
   "execution_count": 5,
   "id": "a691a0a0",
   "metadata": {},
   "outputs": [],
   "source": [
    "view.script('draw symop \"x,y+1/2,z+1/2\" {atomno=2}')"
   ]
  },
  {
   "cell_type": "markdown",
   "id": "df2523a8",
   "metadata": {},
   "source": [
    "L'atome $2$ est l'atome de Rb (voir fichier CIF/l'importer sur Vesta par exemple). Situé à la position $(0.25,0.25,0.25)$ dans la maille conventionnelle, il se trouve à la position de Wyckoff $8c$ du groupe d'espace Fm-3m (n° $225$).\n",
    "\n",
    "Si on lui applique une symétrie de translation: $x,y,z \\Rightarrow x,y+1/2,z+1/2$, on trouve la position $(0.25,0.75,0.75)$. On voit sur cette figure qu'il y a bien un atome de Rb à la nouvelle position obtenue."
   ]
  },
  {
   "cell_type": "markdown",
   "id": "fc241eb3",
   "metadata": {},
   "source": [
    "<h1>Opération de symétrie 3 : Centre d'inversion<h1>"
   ]
  },
  {
   "cell_type": "code",
   "execution_count": 6,
   "id": "d7b98cea",
   "metadata": {},
   "outputs": [
    {
     "data": {
      "application/vnd.jupyter.widget-view+json": {
       "model_id": "c072c519fdb14215b9db3110452627c8",
       "version_major": 2,
       "version_minor": 0
      },
      "text/plain": [
       "JsmolView(layout=Layout(align_self='stretch', height='400px'))"
      ]
     },
     "metadata": {},
     "output_type": "display_data"
    }
   ],
   "source": [
    "view = quick_view(structure, conventional=True)\n",
    "display(view)"
   ]
  },
  {
   "cell_type": "code",
   "execution_count": 7,
   "id": "1135f998",
   "metadata": {},
   "outputs": [],
   "source": [
    "view.script('draw symop \"-x,-y,-z\" {atomno=3}')"
   ]
  },
  {
   "cell_type": "markdown",
   "id": "4c65b44f",
   "metadata": {},
   "source": [
    "L'atome $3$ est l'atome de Sb (voir fichier CIF/l'importer sur Vesta par exemple). Situé à la position $(0,0,0)$ dans la maille conventionnelle, il se trouve à la position de Wyckoff $4a$ du groupe d'espace Fm-3m (n° $225$).\n",
    "\n",
    "Si on lui applique une symétrie de centre d'inversion (de centre $(0,0,0)$): $x,y,z \\Rightarrow -x,-y,-z$, on trouve la même position $(0,0,0)$. Cette symétrie envoie donc l'atome sur lui-même.\n",
    "\n",
    "On remarque l'inversion car les vecteur rouge, bleu, vert sur l'atome de Sb sont inversés."
   ]
  },
  {
   "cell_type": "code",
   "execution_count": null,
   "id": "21a8f61b",
   "metadata": {},
   "outputs": [],
   "source": []
  }
 ],
 "metadata": {
  "kernelspec": {
   "display_name": "Python 3",
   "language": "python",
   "name": "python3"
  },
  "language_info": {
   "codemirror_mode": {
    "name": "ipython",
    "version": 3
   },
   "file_extension": ".py",
   "mimetype": "text/x-python",
   "name": "python",
   "nbconvert_exporter": "python",
   "pygments_lexer": "ipython3",
   "version": "3.6.8"
  }
 },
 "nbformat": 4,
 "nbformat_minor": 5
}
